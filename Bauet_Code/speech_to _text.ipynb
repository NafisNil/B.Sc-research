{
 "cells": [
  {
   "cell_type": "code",
   "execution_count": null,
   "metadata": {},
   "outputs": [],
   "source": [
    "import speech_recognition as sr\n",
    "\n",
    "r = sr.Recognizer()\n",
    "\n",
    "with sr.Microphone() as source:\n",
    "    print(\"Say anything!!!\")\n",
    "    audio = r.listen(source)\n",
    "    \n",
    "    try:\n",
    "        text = r.recognize_google(audio)\n",
    "        print(\"you said : {}\".format(text))\n",
    "    except:\n",
    "        print(\"I can't recognize ur voice\")"
   ]
  },
  {
   "cell_type": "code",
   "execution_count": null,
   "metadata": {},
   "outputs": [],
   "source": [
    "import wikipedia\n",
    "import wolframalpha\n",
    "import webbrowser\n",
    "import speech_recognition as sr\n",
    "\n",
    "r = sr.Recognizer()\n",
    "while True:\n",
    "        print(\"Say anything!!!\")\n",
    "        with sr.Microphone() as source:\n",
    "            my_input = r.listen(source)\n",
    "            text = r.recognize_google(my_input)\n",
    "            if 'open reddit' in text:\n",
    "                webbrowser.open(\"https://www.reddit.com/\")\n",
    "            if 'open youtube' in text:\n",
    "                webbrowser.open(\"https://www.youtube.com/\")\n",
    "            if 'open facebook' in text:\n",
    "                webbrowser.open(\"https://www.facebook.com/\")\n",
    "            if 'open twitter' in text:\n",
    "                webbrowser.open(\"https://www.twitter.com/\")\n",
    "            if 'open quora' in text:\n",
    "                webbrowser.open(\"https://www.quora.com/\")\n",
    "\n",
    "            try:\n",
    "                #wolframalpha code here\n",
    "                app_id = \"Q2HXJ5-GYYYX6PYYP\"\n",
    "\n",
    "                #let's call our app id\n",
    "                client = wolframalpha.Client(app_id)\n",
    "                #text = r.recognize_google(my_input)\n",
    "                res = client.query(text)\n",
    "                print(\"you said : {}\".format(text))\n",
    "                answer = next(res.results).text \n",
    "\n",
    "                print(answer)\n",
    "\n",
    "            except:\n",
    "                #wikipedia\n",
    "                print(wikipedia.summary(text))\n",
    "                print(\"I can't recognize ur voice\")"
   ]
  },
  {
   "cell_type": "code",
   "execution_count": null,
   "metadata": {
    "collapsed": true
   },
   "outputs": [],
   "source": []
  }
 ],
 "metadata": {
  "kernelspec": {
   "display_name": "Python 3",
   "language": "python",
   "name": "python3"
  },
  "language_info": {
   "codemirror_mode": {
    "name": "ipython",
    "version": 3
   },
   "file_extension": ".py",
   "mimetype": "text/x-python",
   "name": "python",
   "nbconvert_exporter": "python",
   "pygments_lexer": "ipython3",
   "version": "3.6.3"
  }
 },
 "nbformat": 4,
 "nbformat_minor": 2
}
